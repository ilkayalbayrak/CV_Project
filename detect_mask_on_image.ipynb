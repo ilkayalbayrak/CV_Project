{
 "cells": [
  {
   "cell_type": "markdown",
   "metadata": {},
   "source": [
    "# Check if people are wearing masks on a given image"
   ]
  },
  {
   "cell_type": "code",
   "execution_count": 2,
   "metadata": {},
   "outputs": [
    {
     "name": "stderr",
     "output_type": "stream",
     "text": [
      "Using TensorFlow backend.\n"
     ]
    }
   ],
   "source": [
    "import numpy as np\n",
    "import  os \n",
    "import cv2\n",
    "# import matplotlib.pyplot as plt\n",
    "\n",
    "from mtcnn import MTCNN\n",
    "\n",
    "from tensorflow.keras.applications.mobilenet_v2 import preprocess_input\n",
    "from tensorflow.keras.preprocessing.image import img_to_array\n",
    "from tensorflow.keras.models import load_model\n"
   ]
  },
  {
   "cell_type": "code",
   "execution_count": 3,
   "metadata": {},
   "outputs": [],
   "source": [
    "# Initiate the MTCNN face detector \n",
    "detector = MTCNN()"
   ]
  },
  {
   "cell_type": "code",
   "execution_count": 4,
   "metadata": {},
   "outputs": [],
   "source": [
    "# Load mask detection model\n",
    "mask_detect_model = load_model('saved_model/my_model_v3.h5')"
   ]
  },
  {
   "cell_type": "code",
   "execution_count": 7,
   "metadata": {},
   "outputs": [],
   "source": [
    "def check_mask(img):\n",
    "    '''\n",
    "        :param: img -> It can be a path to an image or a variable that contains an image\n",
    "         \n",
    "         Detects and extract faces, then passes the faces to our mask detection model to decide\n",
    "         they have masks or not. Finally, it draws bounding boxes on the images with decided labels on top\n",
    "         \n",
    "    '''\n",
    "    # Look for a string path to the image file\n",
    "    if isinstance(img,str):\n",
    "        # Load the image from its path\n",
    "        image_original = cv2.imread(img)\n",
    "        # copy the image\n",
    "        image = image_original[:]\n",
    "    else:\n",
    "        image = img[:]\n",
    "        \n",
    "        \n",
    "    detection_results = detector.detect_faces(image)\n",
    "    \n",
    "    for i in range(len(detection_results)):\n",
    "        confidence = detection_results[i]['confidence']\n",
    "        # Check if the model is more than 50% confident about finding a face\n",
    "        if confidence > 0.5:\n",
    "            # Get the coordinates of the bounding box(location of the face)\n",
    "            x,y,w,h = detection_results[i]['box']\n",
    "            \n",
    "            # Slice the face from the image and preprocess it\n",
    "            # pass it to the mask detection model \n",
    "            face = image[y:y+h, x:x+w]\n",
    "            face = cv2.cvtColor(face, cv2.COLOR_BGR2RGB)\n",
    "            face = cv2.resize(face, (160,160))\n",
    "            face = preprocess_input(face)\n",
    "            face = np.expand_dims(face, axis=0)\n",
    "            \n",
    "            # Put the extracted face to mask detection model \n",
    "            # to check for a mask\n",
    "            (no_mask, mask) = mask_detect_model.predict(face)[0]\n",
    "            \n",
    "            # Choose the label and the color of the bounding box\n",
    "            # according to the prediction\n",
    "            label = ''\n",
    "            color = (0,0,0)\n",
    "            if mask > no_mask:\n",
    "                label = 'MASK'\n",
    "                color = (0,255,0)\n",
    "            else:\n",
    "                label = 'NO MASK'\n",
    "                color = (0,0,255)\n",
    "            label = \"{}: {:.2f}%\".format(label, max(mask, no_mask) * 100)\n",
    "            \n",
    "            # Put the label and the accuracy on top of the face\n",
    "            cv2.putText(image, label, (x, y-7),\n",
    "                      cv2.FONT_HERSHEY_SIMPLEX, 0.45, color, 2)\n",
    "            cv2.rectangle(image, (x,y),(x+w, y+h), color, 2)\n",
    "    cv2.imshow(\"Output\", image)\n",
    "    cv2.waitKey(0)\n",
    "    cv2.destroyAllWindows()\n"
   ]
  },
  {
   "cell_type": "code",
   "execution_count": 6,
   "metadata": {},
   "outputs": [],
   "source": [
    "check_mask('test_images/tribun.jpg')\n"
   ]
  },
  {
   "cell_type": "code",
   "execution_count": null,
   "metadata": {},
   "outputs": [],
   "source": [
    "# if cv2 window gets stuck, run this \n",
    "cv2.destroyAllWindows()\n",
    "cv2.release()"
   ]
  }
 ],
 "metadata": {
  "kernelspec": {
   "display_name": "Python 3",
   "language": "python",
   "name": "python3"
  },
  "language_info": {
   "codemirror_mode": {
    "name": "ipython",
    "version": 3
   },
   "file_extension": ".py",
   "mimetype": "text/x-python",
   "name": "python",
   "nbconvert_exporter": "python",
   "pygments_lexer": "ipython3",
   "version": "3.6.10"
  }
 },
 "nbformat": 4,
 "nbformat_minor": 4
}
