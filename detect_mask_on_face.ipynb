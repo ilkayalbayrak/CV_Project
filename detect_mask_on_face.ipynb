{
 "cells": [
  {
   "cell_type": "markdown",
   "metadata": {},
   "source": [
    "# detect faces and check for a mask"
   ]
  },
  {
   "cell_type": "code",
   "execution_count": 1,
   "metadata": {},
   "outputs": [
    {
     "name": "stderr",
     "output_type": "stream",
     "text": [
      "Using TensorFlow backend.\n"
     ]
    }
   ],
   "source": [
    "import numpy as np\n",
    "import  os \n",
    "import cv2\n",
    "import matplotlib.pyplot as plt\n",
    "\n",
    "from mtcnn import MTCNN\n",
    "\n",
    "from tensorflow.keras.applications.mobilenet_v2 import preprocess_input\n",
    "from tensorflow.keras.preprocessing.image import img_to_array\n",
    "from tensorflow.keras.models import load_model\n"
   ]
  },
  {
   "cell_type": "markdown",
   "metadata": {},
   "source": [
    "MTCNN is an implementation of the paper; Zhang, Kaipeng et al. “Joint Face Detection and Alignment Using Multitask Cascaded Convolutional Networks.” IEEE Signal Processing Letters 23.10 (2016): 1499–1503. Crossref. Web."
   ]
  },
  {
   "cell_type": "code",
   "execution_count": 2,
   "metadata": {},
   "outputs": [],
   "source": [
    "\n",
    "detector = MTCNN()"
   ]
  },
  {
   "cell_type": "markdown",
   "metadata": {},
   "source": [
    "## NOTE: Check out how cv2 blobFromImage can be utilized for eliminating illumination changes !!"
   ]
  },
  {
   "cell_type": "code",
   "execution_count": 3,
   "metadata": {},
   "outputs": [],
   "source": [
    "# load mask detection model\n",
    "mask_detect_model = load_model('saved_model/my_model_v3.h5')"
   ]
  },
  {
   "cell_type": "code",
   "execution_count": 6,
   "metadata": {},
   "outputs": [],
   "source": [
    "def check_mask(file_path):\n",
    "    \n",
    "    # Load the image from its path\n",
    "    image_original = cv2.imread(file_path)\n",
    "    # copy the image\n",
    "    image = image_original[:]\n",
    "    detection_results = detector.detect_faces(image)\n",
    "    \n",
    "    for i in range(len(detection_results)):\n",
    "        confidence = detection_results[i]['confidence']\n",
    "        print(\"CONFIDENCE: {}\".format(confidence))\n",
    "        # Check if the model is more than 50% confident about finding a face\n",
    "        if confidence > 0.5:\n",
    "            # Get the coordinates of the bounding box(location of the face)\n",
    "            x,y,w,h = detection_results[i]['box']\n",
    "            print(x,y,w,h)\n",
    "            \n",
    "            \n",
    "            \n",
    "            # Slice the face from the image and preprocess it\n",
    "            # pass it to the mask detection model \n",
    "            face = image[y:y+h, x:x+w]\n",
    "            face = cv2.cvtColor(face, cv2.COLOR_BGR2RGB)\n",
    "            face = cv2.resize(face, (160,160))\n",
    "            face = preprocess_input(face)\n",
    "            face = np.expand_dims(face, axis=0)\n",
    "            print(face.shape)\n",
    "            \n",
    "            # put the extracted face to mask detection model \n",
    "            # to check for a mask\n",
    "            (no_mask, mask) = mask_detect_model.predict(face)[0]\n",
    "            print('MASK, NO MASK ', mask, no_mask)\n",
    "            \n",
    "            # choose the label and the color of the bounding box\n",
    "            # according to the prediction\n",
    "            label = ''\n",
    "            color = (0,0,0)\n",
    "            if mask > no_mask:\n",
    "                label = 'MASK'\n",
    "                color = (0,255,0)\n",
    "            else:\n",
    "                label = 'NO MASK'\n",
    "                color = (0,0,255)\n",
    "            \n",
    "            cv2.putText(image, label, (x, y-10),\n",
    "                      cv2.FONT_HERSHEY_SIMPLEX, 0.45, color, 2)\n",
    "            cv2.rectangle(image, (x,y),(x+w, y+h), color, 2)\n",
    "    cv2.imshow(\"Output\", image)\n",
    "    cv2.waitKey(0)\n",
    "    cv2.destroyAllWindows()\n"
   ]
  },
  {
   "cell_type": "code",
   "execution_count": 7,
   "metadata": {},
   "outputs": [
    {
     "name": "stdout",
     "output_type": "stream",
     "text": [
      "CONFIDENCE: 0.9999349117279053\n",
      "307 340 221 272\n",
      "(1, 160, 160, 3)\n",
      "MASK, NO MASK  0.018040944 0.98195904\n",
      "CONFIDENCE: 0.9699272513389587\n",
      "1012 315 125 151\n",
      "(1, 160, 160, 3)\n",
      "MASK, NO MASK  0.06726437 0.9327356\n"
     ]
    }
   ],
   "source": [
    "check_mask('test_images/cagri.jpg')\n"
   ]
  },
  {
   "cell_type": "code",
   "execution_count": null,
   "metadata": {},
   "outputs": [],
   "source": []
  },
  {
   "cell_type": "code",
   "execution_count": null,
   "metadata": {},
   "outputs": [],
   "source": []
  },
  {
   "cell_type": "code",
   "execution_count": null,
   "metadata": {},
   "outputs": [],
   "source": []
  }
 ],
 "metadata": {
  "kernelspec": {
   "display_name": "Python 3",
   "language": "python",
   "name": "python3"
  },
  "language_info": {
   "codemirror_mode": {
    "name": "ipython",
    "version": 3
   },
   "file_extension": ".py",
   "mimetype": "text/x-python",
   "name": "python",
   "nbconvert_exporter": "python",
   "pygments_lexer": "ipython3",
   "version": "3.6.10"
  }
 },
 "nbformat": 4,
 "nbformat_minor": 4
}
